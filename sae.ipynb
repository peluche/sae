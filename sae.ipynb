{
 "cells": [
  {
   "cell_type": "markdown",
   "metadata": {},
   "source": [
    "# experiment with SAE\n",
    "https://transformer-circuits.pub/2023/monosemantic-features"
   ]
  },
  {
   "cell_type": "code",
   "execution_count": 6,
   "metadata": {},
   "outputs": [],
   "source": [
    "import torch as t\n",
    "import torch.nn as nn\n",
    "import torch.nn.functional as F"
   ]
  },
  {
   "cell_type": "code",
   "execution_count": 8,
   "metadata": {},
   "outputs": [],
   "source": [
    "device = t.device(\"cuda\" if t.cuda.is_available() else \"cpu\")"
   ]
  },
  {
   "cell_type": "code",
   "execution_count": null,
   "metadata": {},
   "outputs": [],
   "source": [
    "# class Dataset(Dataset):\n",
    "#     def __init__(self):\n",
    "#         super().__init__()\n",
    "#         # self.dataframe = train_df\n",
    "\n",
    "#     def __len__(self):\n",
    "#         return len(self.dataframe)\n",
    "\n",
    "#     def __getitem__(self, idx): # preprocessed version\n",
    "#         row = self.dataframe.iloc[idx]\n",
    "#         id = row['spectrogram_id']\n",
    "#         sub_id = row['spectrogram_sub_id']\n",
    "#         path = f'{PRE_PROCESSED_PATH}/{id}_{sub_id}.pt'\n",
    "#         data = t.load(path)\n",
    "#         labels = row[TARGETS].values.astype(np.float64)\n",
    "#         labels = labels / np.sum(labels)\n",
    "#         labels_out = t.tensor(labels, dtype=t.float64)\n",
    "#         return data, labels_out\n",
    "\n",
    "\n",
    "# ds_len = 10\n",
    "# dataset = []\n",
    "# for i in range(ds_len):\n",
    "#     # call the model we want to apply SAE to, in order to generate training data (aka. activations of MLP)\n",
    "#     dataset.append(gpt2(input).hook)\n",
    "\n"
   ]
  },
  {
   "cell_type": "code",
   "execution_count": 7,
   "metadata": {},
   "outputs": [],
   "source": [
    "class SAE(nn.Module):\n",
    "    def __init__(self, n_in, n_hidden):\n",
    "        super(SAE, self).__init__()\n",
    "        self.b_a = nn.Parameter(t.zeros(n_in))\n",
    "        self.W_e = nn.Linear(n_in, n_hidden, bias=False)\n",
    "        self.b_e = nn.Parameter(t.zeros(n_hidden))\n",
    "        self.W_d = nn.Linear(n_hidden, n_in, bias=False)\n",
    "        self.b_d = nn.Parameter(t.zeros(n_in))\n",
    "\n",
    "    def forward(self, act):\n",
    "        x = act + self.b_a\n",
    "        x = self.W_e(x) + self.b_e\n",
    "        x = F.relu(x)\n",
    "        hidden_activation = x\n",
    "        x = self.W_d(x) + self.b_d\n",
    "        x = F.relu(x)\n",
    "        return x, hidden_activations\n",
    "\n",
    "model = SAE(n_in=10, n_hidden=20).to(device)"
   ]
  },
  {
   "cell_type": "code",
   "execution_count": null,
   "metadata": {},
   "outputs": [],
   "source": [
    "def train(model, opt, dataset, epochs=100, l1_factor=0.1):\n",
    "    for epoch in range(epochs):\n",
    "        for act in dataset:\n",
    "            logits, hidden_activations = model(act)\n",
    "            reconstruction_loss = F.mse_loss(logits, act)\n",
    "            sparsity_loss = hidden_activations.abs().mean()\n",
    "            loss = reconstruction_loss + l1_factor * sparsity_loss\n",
    "            opt.zero_grad()\n",
    "            loss.backward()\n",
    "            opt.step()\n",
    "\n"
   ]
  }
 ],
 "metadata": {
  "kernelspec": {
   "display_name": "Python 3",
   "language": "python",
   "name": "python3"
  },
  "language_info": {
   "codemirror_mode": {
    "name": "ipython",
    "version": 3
   },
   "file_extension": ".py",
   "mimetype": "text/x-python",
   "name": "python",
   "nbconvert_exporter": "python",
   "pygments_lexer": "ipython3",
   "version": "3.10.12"
  }
 },
 "nbformat": 4,
 "nbformat_minor": 2
}
